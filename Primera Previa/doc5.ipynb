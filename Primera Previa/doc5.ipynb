{
 "cells": [
  {
   "cell_type": "code",
   "execution_count": 99,
   "metadata": {},
   "outputs": [],
   "source": [
    "# COMPUTACIÓN BLANDA - Sistemas y Computación\n",
    "# -------------------------------------------\n",
    "# Introducción a numpy\n",
    "# Luis Anibal Loaiza C.\n",
    "# -------------------------------------------\n",
    "# Lección 02\n",
    "#\n",
    "# ** Técnicas de apilamiento\n",
    "# ** División de arrays\n",
    "# ** Propiedades de arrays\n",
    "#\n",
    "# -------------------------------------------"
   ]
  },
  {
   "cell_type": "code",
   "execution_count": 100,
   "metadata": {},
   "outputs": [
    {
     "name": "stdout",
     "output_type": "stream",
     "text": [
      "a =\n",
      " [[ 0  1  2]\n",
      " [ 3  4  5]\n",
      " [ 6  7  8]\n",
      " [ 9 10 11]] \n",
      "\n",
      "b =\n",
      " [[  0  24  48]\n",
      " [ 72  96 120]\n",
      " [144 168 192]\n",
      " [216 240 264]]\n",
      "c =\n",
      " [[  0  12  24]\n",
      " [ 36  48  60]\n",
      " [ 72  84  96]\n",
      " [108 120 132]]\n"
     ]
    }
   ],
   "source": [
    "# Se importa la librería numpy\n",
    "\n",
    "import numpy as np\n",
    "import random\n",
    "# APILAMIENTO\n",
    "# -----------\n",
    "# Apilado\n",
    "# Las matrices se pueden apilar horizontalmente, en profundidad o\n",
    "# verticalmente. Podemos utilizar, para ese propósito,\n",
    "# las funciones vstack, dstack, hstack, column_stack, row_stack y concatenate.\n",
    "# Para empezar, vamos a crear dos arrays\n",
    "# Matriz a\n",
    "a = np.arange(12).reshape(4,3)\n",
    "print('a =\\n', a, '\\n')\n",
    "# Matriz b, creada a partir de la matriz a\n",
    "b = a*24\n",
    "print('b =\\n', b)\n",
    "# Utilizaremos estas dos matrices para mostrar los mecanismos\n",
    "# de apilamiento disponibles\n",
    "c= b//2\n",
    "\n",
    "print('c =\\n', c)"
   ]
  },
  {
   "cell_type": "code",
   "execution_count": 102,
   "metadata": {},
   "outputs": [
    {
     "name": "stdout",
     "output_type": "stream",
     "text": [
      "a =\n",
      " [[ 0  1  2]\n",
      " [ 3  4  5]\n",
      " [ 6  7  8]\n",
      " [ 9 10 11]] \n",
      "\n",
      "b =\n",
      " [[  0  24  48]\n",
      " [ 72  96 120]\n",
      " [144 168 192]\n",
      " [216 240 264]] \n",
      "\n",
      "c =\n",
      " [[  0  12  24]\n",
      " [ 36  48  60]\n",
      " [ 72  84  96]\n",
      " [108 120 132]] \n",
      "\n",
      "Apilamiento horizontal =\n",
      " [[  0   1   2   0  24  48   0  12  24]\n",
      " [  3   4   5  72  96 120  36  48  60]\n",
      " [  6   7   8 144 168 192  72  84  96]\n",
      " [  9  10  11 216 240 264 108 120 132]]\n",
      "Recorrer nueva matriz \n",
      "\n",
      "Posicion 0 en matriz \n",
      "\n",
      "[ 0  1  2  0 24 48  0 12 24]\n",
      "Posicion 1 en matriz \n",
      "\n",
      "[  3   4   5  72  96 120  36  48  60]\n",
      "Posicion 2 en matriz \n",
      "\n",
      "[  6   7   8 144 168 192  72  84  96]\n",
      "Posicion 3 en matriz \n",
      "\n",
      "[  9  10  11 216 240 264 108 120 132]\n"
     ]
    }
   ],
   "source": [
    "# APILAMIENTO HORIZONTAL\n",
    "# Matrices origen\n",
    "print('a =\\n', a, '\\n')\n",
    "print('b =\\n', b, '\\n')\n",
    "print('c =\\n', c, '\\n')\n",
    "# Apilamiento horizontal\n",
    "print('Apilamiento horizontal =\\n', np.hstack((a,b,c)) )\n",
    "e=np.hstack((a,b,c))\n",
    "print( 'Recorrer nueva matriz \\n')\n",
    "con=0\n",
    "for i in e:\n",
    "    print( 'Posicion {} en matriz \\n'.format(con))\n",
    "    con=con+1\n",
    "    print(i)"
   ]
  },
  {
   "cell_type": "code",
   "execution_count": 103,
   "metadata": {},
   "outputs": [
    {
     "name": "stdout",
     "output_type": "stream",
     "text": [
      "a =\n",
      " [[ 0  1  2]\n",
      " [ 3  4  5]\n",
      " [ 6  7  8]\n",
      " [ 9 10 11]] \n",
      "\n",
      "b =\n",
      " [[  0  24  48]\n",
      " [ 72  96 120]\n",
      " [144 168 192]\n",
      " [216 240 264]] \n",
      "\n",
      "Apilamiento horizontal con concatenate = \n",
      " [[  0   1   2   0  24  48   0  12  24]\n",
      " [  3   4   5  72  96 120  36  48  60]\n",
      " [  6   7   8 144 168 192  72  84  96]\n",
      " [  9  10  11 216 240 264 108 120 132]]\n"
     ]
    }
   ],
   "source": [
    "# APILAMIENTO HORIZONTAL - Variante\n",
    "# Utilización de la función: concatenate()\n",
    "# Matrices origen\n",
    "print('a =\\n', a, '\\n')\n",
    "print('b =\\n', b, '\\n')\n",
    "# Apilamiento horizontal\n",
    "print( 'Apilamiento horizontal con concatenate = \\n',np.concatenate((a,b,c), axis=1) )\n",
    "\n",
    "d=np.concatenate((a,b), axis=1)\n",
    "# Si axis=1, el apilamiento es horizontal"
   ]
  },
  {
   "cell_type": "code",
   "execution_count": 123,
   "metadata": {},
   "outputs": [
    {
     "name": "stdout",
     "output_type": "stream",
     "text": [
      "a =\n",
      " [[ 0  1  2]\n",
      " [ 3  4  5]\n",
      " [ 6  7  8]\n",
      " [ 9 10 11]] \n",
      "\n",
      "Apilamiento vertical =\n",
      " [[ 0  1  2]\n",
      " [ 3  4  5]\n",
      " [ 6  7  8]\n",
      " [ 9 10 11]\n",
      " [ 0  1  2]\n",
      " [ 3  4  5]\n",
      " [ 6  7  8]\n",
      " [ 9 10 11]]\n"
     ]
    }
   ],
   "source": [
    "# APILAMIENTO VERTICAL\n",
    "# Matrices origen\n",
    "print('a =\\n', a, '\\n')\n",
    "\n",
    "# Apilamiento vertical\n",
    "print( 'Apilamiento vertical =\\n', np.vstack((a,a)) )\n",
    "\n"
   ]
  },
  {
   "cell_type": "code",
   "execution_count": 105,
   "metadata": {},
   "outputs": [
    {
     "name": "stdout",
     "output_type": "stream",
     "text": [
      "a =\n",
      " [[ 0  1  2]\n",
      " [ 3  4  5]\n",
      " [ 6  7  8]\n",
      " [ 9 10 11]] \n",
      "\n",
      "b =\n",
      " [[  0  24  48]\n",
      " [ 72  96 120]\n",
      " [144 168 192]\n",
      " [216 240 264]] \n",
      "\n",
      "Apilamiento vertical con concatenate =\n",
      " [[  0   1   2]\n",
      " [  3   4   5]\n",
      " [  6   7   8]\n",
      " [  9  10  11]\n",
      " [  0  24  48]\n",
      " [ 72  96 120]\n",
      " [144 168 192]\n",
      " [216 240 264]]\n"
     ]
    }
   ],
   "source": [
    "# APILAMIENTO VERTICAL - Variante\n",
    "\n",
    "# Utilización de la función: concatenate()\n",
    "# Matrices origen\n",
    "print('a =\\n', a, '\\n')\n",
    "print('b =\\n', b, '\\n')\n",
    "# Apilamiento vertical\n",
    "print( 'Apilamiento vertical con concatenate =\\n',\n",
    "np.concatenate((a,b), axis=0) )\n",
    "# Si axis=0, el apilamiento es vertical"
   ]
  },
  {
   "cell_type": "code",
   "execution_count": 106,
   "metadata": {},
   "outputs": [
    {
     "name": "stdout",
     "output_type": "stream",
     "text": [
      "a =\n",
      " [[ 0  1  2]\n",
      " [ 3  4  5]\n",
      " [ 6  7  8]\n",
      " [ 9 10 11]] \n",
      "\n",
      "b =\n",
      " [[  0  24  48]\n",
      " [ 72  96 120]\n",
      " [144 168 192]\n",
      " [216 240 264]] \n",
      "\n",
      "b =\n",
      " [[  0  12  24]\n",
      " [ 36  48  60]\n",
      " [ 72  84  96]\n",
      " [108 120 132]] \n",
      "\n",
      "Apilamiento en profundidad =\n",
      " [[[  0   0   0]\n",
      "  [  1  24  12]\n",
      "  [  2  48  24]]\n",
      "\n",
      " [[  3  72  36]\n",
      "  [  4  96  48]\n",
      "  [  5 120  60]]\n",
      "\n",
      " [[  6 144  72]\n",
      "  [  7 168  84]\n",
      "  [  8 192  96]]\n",
      "\n",
      " [[  9 216 108]\n",
      "  [ 10 240 120]\n",
      "  [ 11 264 132]]]\n",
      "Recorrer nueva matriz \n",
      "\n",
      "Posicion 0 en matriz \n",
      "\n",
      "[[ 0  0  0]\n",
      " [ 1 24 12]\n",
      " [ 2 48 24]]\n",
      "Posicion 1 en matriz \n",
      "\n",
      "[[  3  72  36]\n",
      " [  4  96  48]\n",
      " [  5 120  60]]\n",
      "Posicion 2 en matriz \n",
      "\n",
      "[[  6 144  72]\n",
      " [  7 168  84]\n",
      " [  8 192  96]]\n",
      "Posicion 3 en matriz \n",
      "\n",
      "[[  9 216 108]\n",
      " [ 10 240 120]\n",
      " [ 11 264 132]]\n"
     ]
    }
   ],
   "source": [
    "# APILAMIENTO EN PROFUNDIDAD\n",
    "\n",
    "# En el apilamiento en profundidad, se crean bloques utilizando\n",
    "# parejas de datos tomados de las dos matrices\n",
    "# Matrices origen\n",
    "print('a =\\n', a, '\\n')\n",
    "print('b =\\n', b, '\\n')\n",
    "print('b =\\n', c, '\\n')\n",
    "# Apilamiento en profundidad\n",
    "print( 'Apilamiento en profundidad =\\n', np.dstack((a,b,c)) )\n",
    "e = np.dstack((a,b,c))\n",
    "print( 'Recorrer nueva matriz \\n')\n",
    "con=0\n",
    "for i in e:\n",
    "    print( 'Posicion {} en matriz \\n'.format(con))\n",
    "    con=con+1\n",
    "    print(i)"
   ]
  },
  {
   "cell_type": "code",
   "execution_count": 107,
   "metadata": {},
   "outputs": [
    {
     "name": "stdout",
     "output_type": "stream",
     "text": [
      "a =\n",
      " [[ 0  1  2]\n",
      " [ 3  4  5]\n",
      " [ 6  7  8]\n",
      " [ 9 10 11]] \n",
      "\n",
      "b =\n",
      " [[  0  24  48]\n",
      " [ 72  96 120]\n",
      " [144 168 192]\n",
      " [216 240 264]] \n",
      "\n",
      "c =\n",
      " [[  0  12  24]\n",
      " [ 36  48  60]\n",
      " [ 72  84  96]\n",
      " [108 120 132]] \n",
      "\n",
      "Apilamiento por columnas =\n",
      " [[  0   1   2   0  24  48   0  12  24]\n",
      " [  3   4   5  72  96 120  36  48  60]\n",
      " [  6   7   8 144 168 192  72  84  96]\n",
      " [  9  10  11 216 240 264 108 120 132]]\n",
      "Posicion 4 en matriz \n",
      "\n",
      "[ 0  1  2  0 24 48  0 12 24]\n",
      "Posicion 5 en matriz \n",
      "\n",
      "[  3   4   5  72  96 120  36  48  60]\n",
      "Posicion 6 en matriz \n",
      "\n",
      "[  6   7   8 144 168 192  72  84  96]\n",
      "Posicion 7 en matriz \n",
      "\n",
      "[  9  10  11 216 240 264 108 120 132]\n",
      "\n",
      " [array([ 0,  2,  4,  0, 48, 96,  0, 24, 48]), array([  6,   8,  10, 144, 192, 240,  72,  96, 120]), array([ 12,  14,  16, 288, 336, 384, 144, 168, 192]), array([ 18,  20,  22, 432, 480, 528, 216, 240, 264])]\n"
     ]
    }
   ],
   "source": [
    "# APILAMIENTO POR COLUMNAS\n",
    "\n",
    "# El apilamiento por columnas es similar a hstack()\n",
    "# Se apilan las columnas, de izquierda a derecha, y tomándolas\n",
    "# de los bloques definidos en la matriz\n",
    "# Matrices origen\n",
    "print('a =\\n', a, '\\n')\n",
    "print('b =\\n', b, '\\n')\n",
    "print('c =\\n', c, '\\n')\n",
    "# Apilamiento vertical\n",
    "e=np.column_stack((a,b,c))\n",
    "print( 'Apilamiento por columnas =\\n',e )\n",
    "h=[]\n",
    "for i in e:\n",
    "    print( 'Posicion {} en matriz \\n'.format(con))\n",
    "    con=con+1\n",
    "    print(i)\n",
    "    h.append(i+i)\n",
    "    \n",
    "print('\\n',h)   \n"
   ]
  },
  {
   "cell_type": "code",
   "execution_count": 108,
   "metadata": {},
   "outputs": [
    {
     "name": "stdout",
     "output_type": "stream",
     "text": [
      "a =\n",
      " [[ 0  1  2]\n",
      " [ 3  4  5]\n",
      " [ 6  7  8]\n",
      " [ 9 10 11]] \n",
      "\n",
      "b =\n",
      " [[  0  24  48]\n",
      " [ 72  96 120]\n",
      " [144 168 192]\n",
      " [216 240 264]] \n",
      "\n",
      "Apilamiento por filas =\n",
      " [[  0   1   2]\n",
      " [  3   4   5]\n",
      " [  6   7   8]\n",
      " [  9  10  11]\n",
      " [  0  24  48]\n",
      " [ 72  96 120]\n",
      " [144 168 192]\n",
      " [216 240 264]]\n",
      "b[0,0] = 0 \n",
      "\n",
      "b[0,1] = 1 \n",
      "\n",
      "b[0,2] = 2 \n",
      "\n",
      "b[1,0] = 3 \n",
      "\n",
      "b[1,1] = 4 \n",
      "\n",
      "b[1,2] = 5 \n",
      "\n",
      "b[2,0] = 6 \n",
      "\n",
      "b[2,1] = 7 \n",
      "\n",
      "b[2,2] = 8 \n",
      "\n",
      "b[3,0] = 9 \n",
      "\n",
      "b[3,1] = 10 \n",
      "\n",
      "b[3,2] = 11 \n",
      "\n",
      "b[4,0] = 0 \n",
      "\n",
      "b[4,1] = 24 \n",
      "\n",
      "b[4,2] = 48 \n",
      "\n",
      "b[5,0] = 72 \n",
      "\n",
      "b[5,1] = 96 \n",
      "\n",
      "b[5,2] = 120 \n",
      "\n",
      "b[6,0] = 144 \n",
      "\n",
      "b[6,1] = 168 \n",
      "\n",
      "b[6,2] = 192 \n",
      "\n",
      "b[7,0] = 216 \n",
      "\n",
      "b[7,1] = 240 \n",
      "\n",
      "b[7,2] = 264 \n",
      "\n"
     ]
    }
   ],
   "source": [
    "# APILAMIENTO POR FILAS\n",
    "\n",
    "# El apilamiento por fila es similar a vstack()\n",
    "# Se apilan las filas, de arriba hacia abajo, y tomándolas\n",
    "# de los bloques definidos en la matriz\n",
    "# Matrices origen\n",
    "print('a =\\n', a, '\\n')\n",
    "print('b =\\n', b, '\\n')\n",
    "# Apilamiento vertical\n",
    "u=np.row_stack((a,b))\n",
    "print( 'Apilamiento por filas =\\n',u )\n",
    "\n",
    "#Vista de la matriz por elementos\n",
    "for i in range(len(u)):\n",
    "      for j in range(len(u[i])):\n",
    "        print('b[{},{}] ='.format(i,j) , u[i][j],'\\n')"
   ]
  },
  {
   "cell_type": "code",
   "execution_count": 109,
   "metadata": {},
   "outputs": [],
   "source": [
    "# DIVISIÓN DE ARRAYS\n",
    "\n",
    "# Las matrices se pueden dividir vertical, horizontalmente o en profundidad.\n",
    "# Las funciones involucradas son hsplit, vsplit, dsplit y split.\n",
    "# Podemos hacer divisiones de las matrices utilizando su estructura inicial\n",
    "# o hacerlo indicando la posición después de la cual debe ocurrir la división"
   ]
  },
  {
   "cell_type": "code",
   "execution_count": 125,
   "metadata": {},
   "outputs": [
    {
     "name": "stdout",
     "output_type": "stream",
     "text": [
      "[[ 0  1  2]\n",
      " [ 3  4  5]\n",
      " [ 6  7  8]\n",
      " [ 9 10 11]] \n",
      "\n",
      "Array con división horizontal =\n",
      " [array([[0],\n",
      "       [3],\n",
      "       [6],\n",
      "       [9]]), array([[ 1],\n",
      "       [ 4],\n",
      "       [ 7],\n",
      "       [10]]), array([[ 2],\n",
      "       [ 5],\n",
      "       [ 8],\n",
      "       [11]])] \n",
      "\n",
      "Array con división horizontal, uso de split() =\n",
      " [array([[0],\n",
      "       [3],\n",
      "       [6],\n",
      "       [9]]), array([[ 1],\n",
      "       [ 4],\n",
      "       [ 7],\n",
      "       [10]]), array([[ 2],\n",
      "       [ 5],\n",
      "       [ 8],\n",
      "       [11]])]\n",
      "Recorrer nueva matriz \n",
      "\n",
      "a[0,0] = 0 \n",
      "\n",
      "a[0,1] = 1 \n",
      "\n",
      "a[0,2] = 2 \n",
      "\n",
      "a[1,0] = 3 \n",
      "\n",
      "a[1,1] = 4 \n",
      "\n",
      "a[1,2] = 5 \n",
      "\n",
      "a[2,0] = 6 \n",
      "\n",
      "a[2,1] = 7 \n",
      "\n",
      "a[2,2] = 8 \n",
      "\n",
      "a[3,0] = 9 \n",
      "\n",
      "a[3,1] = 10 \n",
      "\n",
      "a[3,2] = 11 \n",
      "\n"
     ]
    }
   ],
   "source": [
    "# DIVISIÓN HORIZONTAL\n",
    "print(a, '\\n')\n",
    "# El código resultante divide una matriz a lo largo de su eje horizontal\n",
    "# en tres piezas del mismo tamaño y forma:}\n",
    "print('Array con división horizontal =\\n', np.hsplit(a, 3), '\\n')\n",
    "# El mismo efecto se consigue con split() y utilizando una bandera a 1\n",
    "print('Array con división horizontal, uso de split() =\\n',\n",
    "np.split(a, 3, axis=1))\n",
    "\n",
    "\n",
    "print( 'Recorrer nueva matriz \\n')\n",
    "for i in range(len(a)):\n",
    "      for j in range(len(a[i])):\n",
    "        print('a[{},{}] ='.format(i,j) , a[i][j],'\\n')"
   ]
  },
  {
   "cell_type": "code",
   "execution_count": 111,
   "metadata": {},
   "outputs": [
    {
     "name": "stdout",
     "output_type": "stream",
     "text": [
      "[[ 0  1  2]\n",
      " [ 3  4  5]\n",
      " [ 6  7  8]\n",
      " [ 9 10 11]] \n",
      "\n",
      "División Vertical = \n",
      " [array([[0, 1, 2]]), array([[3, 4, 5]]), array([[6, 7, 8]]), array([[ 9, 10, 11]])] \n",
      "\n",
      "Array con división vertical, uso de split() =\n",
      " [array([[0, 1, 2]]), array([[3, 4, 5]]), array([[6, 7, 8]]), array([[ 9, 10, 11]])]\n"
     ]
    }
   ],
   "source": [
    "# DIVISIÓN VERTICAL\n",
    "print(a, '\\n')\n",
    "# La función vsplit divide el array a lo largo del eje vertical:\n",
    "print('División Vertical = \\n', np.vsplit(a, 4), '\\n')\n",
    "# El mismo efecto se consigue con split() y utilizando una bandera a 0\n",
    "print('Array con división vertical, uso de split() =\\n',\n",
    "np.split(a, 4, axis=0))"
   ]
  },
  {
   "cell_type": "code",
   "execution_count": 112,
   "metadata": {},
   "outputs": [
    {
     "name": "stdout",
     "output_type": "stream",
     "text": [
      "[25, 28, 41, 24, 53, 43, 42, 42, 67, 50, 33, 16, 19, 54, 32, 28, 56, 18, 39, 43, 38, 23, 12, 50, 59, 23, 30, 52, 42, 63, 42, 39, 56, 32, 22, 44, 16, 44, 14, 66, 27, 40, 20, 59, 14, 18, 12, 28] \n",
      "\n",
      "[[[25 28 41]\n",
      "  [24 53 43]\n",
      "  [42 42 67]\n",
      "  [50 33 16]]\n",
      "\n",
      " [[19 54 32]\n",
      "  [28 56 18]\n",
      "  [39 43 38]\n",
      "  [23 12 50]]\n",
      "\n",
      " [[59 23 30]\n",
      "  [52 42 63]\n",
      "  [42 39 56]\n",
      "  [32 22 44]]\n",
      "\n",
      " [[16 44 14]\n",
      "  [66 27 40]\n",
      "  [20 59 14]\n",
      "  [18 12 28]]]\n",
      "División en profundidad =\n",
      " [array([[[25],\n",
      "        [24],\n",
      "        [42],\n",
      "        [50]],\n",
      "\n",
      "       [[19],\n",
      "        [28],\n",
      "        [39],\n",
      "        [23]],\n",
      "\n",
      "       [[59],\n",
      "        [52],\n",
      "        [42],\n",
      "        [32]],\n",
      "\n",
      "       [[16],\n",
      "        [66],\n",
      "        [20],\n",
      "        [18]]]), array([[[28],\n",
      "        [53],\n",
      "        [42],\n",
      "        [33]],\n",
      "\n",
      "       [[54],\n",
      "        [56],\n",
      "        [43],\n",
      "        [12]],\n",
      "\n",
      "       [[23],\n",
      "        [42],\n",
      "        [39],\n",
      "        [22]],\n",
      "\n",
      "       [[44],\n",
      "        [27],\n",
      "        [59],\n",
      "        [12]]]), array([[[41],\n",
      "        [43],\n",
      "        [67],\n",
      "        [16]],\n",
      "\n",
      "       [[32],\n",
      "        [18],\n",
      "        [38],\n",
      "        [50]],\n",
      "\n",
      "       [[30],\n",
      "        [63],\n",
      "        [56],\n",
      "        [44]],\n",
      "\n",
      "       [[14],\n",
      "        [40],\n",
      "        [14],\n",
      "        [28]]])] \n",
      "\n"
     ]
    }
   ],
   "source": [
    "# DIVISIÓN EN PROFUNDIDAD\n",
    "import random\n",
    "# La función dsplit, como era de esperarse, realiza división\n",
    "# en profundidad dentro del array\n",
    "# Para ilustrar con un ejemplo, utilizaremos una matriz de rango tres\n",
    "\n",
    "d = []\n",
    "for s in range(0,48):\n",
    "    s=random.randrange(12,68)\n",
    "    d.append(s)\n",
    "print(d, '\\n')\n",
    "d=np.reshape(d,(4,4,3))\n",
    "print(d)\n",
    "# Se realiza la división\n",
    "print('División en profundidad =\\n', np.dsplit(d,3), '\\n')\n"
   ]
  },
  {
   "cell_type": "code",
   "execution_count": 113,
   "metadata": {},
   "outputs": [
    {
     "name": "stdout",
     "output_type": "stream",
     "text": [
      "[[  0  24  48]\n",
      " [ 72  96 120]\n",
      " [144 168 192]\n",
      " [216 240 264]] \n",
      "\n",
      "ndim:  2\n"
     ]
    }
   ],
   "source": [
    "# PROPIEDADES DE LOS ARRAYS\n",
    "# El atributo ndim calcula el número de dimensiones\n",
    "\n",
    "print(b, '\\n')\n",
    "print('ndim: ', b.ndim)"
   ]
  },
  {
   "cell_type": "code",
   "execution_count": 114,
   "metadata": {},
   "outputs": [
    {
     "name": "stdout",
     "output_type": "stream",
     "text": [
      "[[  0  24  48]\n",
      " [ 72  96 120]\n",
      " [144 168 192]\n",
      " [216 240 264]] \n",
      "\n",
      "size:  12\n"
     ]
    }
   ],
   "source": [
    "# El atributo size calcula el número de elementos\n",
    "\n",
    "print(b, '\\n')\n",
    "print('size: ', b.size)"
   ]
  },
  {
   "cell_type": "code",
   "execution_count": 115,
   "metadata": {},
   "outputs": [
    {
     "name": "stdout",
     "output_type": "stream",
     "text": [
      "itemsize:  4\n"
     ]
    }
   ],
   "source": [
    "# El atributo itemsize obtiene el número de bytes por cada\n",
    "\n",
    "# elemento en el array\n",
    "print('itemsize: ', b.itemsize)"
   ]
  },
  {
   "cell_type": "code",
   "execution_count": 116,
   "metadata": {},
   "outputs": [
    {
     "name": "stdout",
     "output_type": "stream",
     "text": [
      "[[  0  24  48]\n",
      " [ 72  96 120]\n",
      " [144 168 192]\n",
      " [216 240 264]] \n",
      "\n",
      "nbytes:  48 \n",
      "\n",
      "nbytes equivalente:  48\n"
     ]
    }
   ],
   "source": [
    "# El atributo nbytes calcula el número total de bytes del array\n",
    "\n",
    "print(b, '\\n')\n",
    "print('nbytes: ', b.nbytes, '\\n')\n",
    "# Es equivalente a la siguiente operación\n",
    "print('nbytes equivalente: ', b.size * b.itemsize)"
   ]
  },
  {
   "cell_type": "code",
   "execution_count": 126,
   "metadata": {},
   "outputs": [
    {
     "name": "stdout",
     "output_type": "stream",
     "text": [
      "[[ 0  3  6]\n",
      " [ 9 12 15]\n",
      " [18 21 24]\n",
      " [27 30 33]]\n"
     ]
    }
   ],
   "source": [
    "#Multiplicacion de escalar\n",
    "a=3*a\n",
    "print(a)"
   ]
  },
  {
   "cell_type": "code",
   "execution_count": 136,
   "metadata": {},
   "outputs": [
    {
     "name": "stdout",
     "output_type": "stream",
     "text": [
      "-48.00000000000001\n"
     ]
    }
   ],
   "source": [
    "#Determinante de una matriz\n",
    "A = ([\n",
    "    [3, 2, 5],\n",
    "    [1, 6, 7],\n",
    "    [1, 6, 4]    \n",
    "])\n",
    "z=np.linalg.det(A)\n",
    "print(z)"
   ]
  },
  {
   "cell_type": "code",
   "execution_count": 137,
   "metadata": {},
   "outputs": [
    {
     "name": "stdout",
     "output_type": "stream",
     "text": [
      "[[ 0.375      -0.45833333  0.33333333]\n",
      " [-0.0625     -0.14583333  0.33333333]\n",
      " [-0.          0.33333333 -0.33333333]]\n"
     ]
    }
   ],
   "source": [
    "#Matriz inversa\n",
    "k=np.linalg.inv(A)\n",
    "print(k)"
   ]
  },
  {
   "cell_type": "code",
   "execution_count": 142,
   "metadata": {},
   "outputs": [],
   "source": [
    "import matplotlib.pyplot as plt\n",
    "from warnings import filterwarnings\n",
    "\n",
    "%matplotlib inline\n",
    "filterwarnings('ignore') # Ignorar warnings\n",
    "\n",
    "def move_spines():\n",
    "    \"\"\"Crea la figura de pyplot y los ejes. Mueve las lineas de la izquierda y de abajo\n",
    "    para que se intersecten con el origen. Elimina las lineas de la derecha y la de arriba.\n",
    "    Devuelve los ejes.\"\"\"\n",
    "    fix, ax = plt.subplots()\n",
    "    for spine in [\"left\", \"bottom\"]:\n",
    "        ax.spines[spine].set_position(\"zero\")\n",
    "    \n",
    "    for spine in [\"right\", \"top\"]:\n",
    "        ax.spines[spine].set_color(\"none\")\n",
    "    \n",
    "    return ax\n",
    "\n",
    "def vect_fig(): \n",
    "    \"\"\"Genera el grafico de los vectores en el plano\"\"\"\n",
    "    ax = move_spines()\n",
    "    \n",
    "    ax.set_xlim(-5, 5)\n",
    "    ax.set_ylim(-5, 5)\n",
    "    ax.grid()\n",
    "    vecs = [[2, 4], [-3, 3], [-4, -3.5],[4, -3.5]] # lista de vectores\n",
    "    for v in vecs:\n",
    "        ax.annotate(\" \", xy=v, xytext=[0, 0],\n",
    "                   arrowprops=dict(facecolor=\"red\",\n",
    "                                  shrink=0,\n",
    "                                  alpha=0.7,\n",
    "                                  width=0.5))\n",
    "        ax.text(1.1 * v[0], 1.1 * v[1], v)"
   ]
  },
  {
   "cell_type": "code",
   "execution_count": 144,
   "metadata": {},
   "outputs": [
    {
     "data": {
      "image/png": "[encoded data removed]",
      "text/plain": [
       "<Figure size 432x288 with 1 Axes>"
      ]
     },
     "metadata": {
      "needs_background": "light"
     },
     "output_type": "display_data"
    }
   ],
   "source": [
    "vect_fig() # crea el gráfico\n",
    "#Recopilado de https://relopezbriega.github.io/blog/2015/06/14/algebra-lineal-con-python/"
   ]
  },
  {
   "cell_type": "code",
   "execution_count": 117,
   "metadata": {},
   "outputs": [
    {
     "name": "stdout",
     "output_type": "stream",
     "text": [
      "[[  0  24]\n",
      " [ 48  72]\n",
      " [ 96 120]\n",
      " [144 168]\n",
      " [192 216]\n",
      " [240 264]] \n",
      "\n",
      "Transpuesta:  [[  0  48  96 144 192 240]\n",
      " [ 24  72 120 168 216 264]]\n"
     ]
    }
   ],
   "source": [
    "# El atributo T tiene el mismo efecto que la transpuesta de la matriz\n",
    "\n",
    "b.resize(6,2)\n",
    "print(b, '\\n')\n",
    "print('Transpuesta: ', b.T)"
   ]
  },
  {
   "cell_type": "code",
   "execution_count": 118,
   "metadata": {},
   "outputs": [
    {
     "name": "stdout",
     "output_type": "stream",
     "text": [
      "Complejo: \n",
      " [1.+1.j 3.+2.j]\n",
      "Tipo de dato: \n",
      " complex128\n"
     ]
    }
   ],
   "source": [
    "# Los números complejos en numpy se representan con j\n",
    "\n",
    "b = np.array([1.j + 1, 2.j + 3])\n",
    "print('Complejo: \\n', b)\n",
    "print('Tipo de dato: \\n', b.dtype)"
   ]
  },
  {
   "cell_type": "code",
   "execution_count": 119,
   "metadata": {},
   "outputs": [
    {
     "name": "stdout",
     "output_type": "stream",
     "text": [
      "real:  [1. 3.] \n",
      "\n",
      "imaginario:  [1. 2.]\n"
     ]
    }
   ],
   "source": [
    "# El atributo real nos da la parte real del array,\n",
    "# o el array en sí mismo si solo contiene números reales\n",
    "print('real: ', b.real, '\\n')\n",
    "# El atributo imag contiene la parte imaginaria del array\n",
    "print('imaginario: ', b.imag)"
   ]
  },
  {
   "cell_type": "code",
   "execution_count": 120,
   "metadata": {},
   "outputs": [
    {
     "name": "stdout",
     "output_type": "stream",
     "text": [
      "real:  float64 \n",
      "\n",
      "imaginario:  float64\n"
     ]
    }
   ],
   "source": [
    "# El atributo real nos da la parte real del array,\n",
    "# o el array en sí mismo si solo contiene números reales\n",
    "print('real: ', b.real.dtype, '\\n')\n",
    "# El atributo imag contiene la parte imaginaria del array\n",
    "print('imaginario: ', b.imag.dtype)"
   ]
  },
  {
   "cell_type": "code",
   "execution_count": 121,
   "metadata": {},
   "outputs": [
    {
     "name": "stdout",
     "output_type": "stream",
     "text": [
      "[[0 1]\n",
      " [2 3]] \n",
      "\n",
      "<numpy.flatiter object at 0x000002CE9703D490> \n",
      "\n",
      "0\n",
      "1\n",
      "2\n",
      "3\n",
      "\n",
      "\n",
      "Elemento 2:  2\n",
      "[[7 7]\n",
      " [7 7]] \n",
      "\n",
      "[[7 1]\n",
      " [7 1]] \n",
      "\n"
     ]
    }
   ],
   "source": [
    "# El atributo flat devuelve un objeto numpy.flatiter.\n",
    "# Esta es la única forma de adquirir un flatiter:\n",
    "# no tenemos acceso a un constructor de flatiter.\n",
    "# El apartamento El iterador nos permite recorrer una matriz\n",
    "# como si fuera una matriz plana, como se muestra a continuación:\n",
    "# En el siguiente ejemplo se clarifica este concepto\n",
    "b = np.arange(4).reshape(2,2)\n",
    "print(b, '\\n')\n",
    "f = b.flat\n",
    "print(f, '\\n')\n",
    "# Ciclo que itera a lo largo de f\n",
    "for item in f: print (item)\n",
    "# Selección de un elemento\n",
    "print('\\n')\n",
    "print('Elemento 2: ', b.flat[2])\n",
    "# Operaciones directas con flat\n",
    "b.flat = 7\n",
    "print(b, '\\n')\n",
    "b.flat[[1,3]] = 1\n",
    "print(b, '\\n')"
   ]
  },
  {
   "cell_type": "code",
   "execution_count": null,
   "metadata": {},
   "outputs": [],
   "source": []
  },
  {
   "cell_type": "code",
   "execution_count": null,
   "metadata": {},
   "outputs": [],
   "source": []
  }
 ],
 "metadata": {
  "kernelspec": {
   "display_name": "Python 3",
   "language": "python",
   "name": "python3"
  },
  "language_info": {
   "codemirror_mode": {
    "name": "ipython",
    "version": 3
   },
   "file_extension": ".py",
   "mimetype": "text/x-python",
   "name": "python",
   "nbconvert_exporter": "python",
   "pygments_lexer": "ipython3",
   "version": "3.8.3"
  }
 },
 "nbformat": 4,
 "nbformat_minor": 4
}
