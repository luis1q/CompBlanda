{
 "cells": [
  {
   "cell_type": "code",
   "execution_count": 3,
   "metadata": {},
   "outputs": [
    {
     "name": "stdout",
     "output_type": "stream",
     "text": [
      "[[ 5.1 -2.9  3.3]\n",
      " [-1.2  6.8 -6.1]\n",
      " [ 3.9  0.4  2.6]\n",
      " [ 7.8 -9.4 -4.5]\n",
      " [-7.8  9.4  4.5]]\n"
     ]
    }
   ],
   "source": [
    "# PROCESAMIENTO DIGITAL\n",
    "#Luis Anibal Loaiza C.\n",
    "\n",
    "# Se importan las librería numpy y las funciones de preprocesamiento\n",
    "import numpy as np\n",
    "from sklearn import preprocessing\n",
    "# Datos de prueba\n",
    "input_data = np.array([[5.1, -2.9, 3.3],\n",
    "[-1.2, 6.8, -6.1],\n",
    "[3.9, 0.4, 2.6],\n",
    "[7.8, -9.4, -4.5],\n",
    "[-7.8, 9.4, 4.5],\n",
    "])\n",
    "print(input_data)"
   ]
  },
  {
   "cell_type": "code",
   "execution_count": 7,
   "metadata": {},
   "outputs": [
    {
     "name": "stdout",
     "output_type": "stream",
     "text": [
      "\n",
      "Datos binarizados:\n",
      " [[1. 0. 1.]\n",
      " [0. 1. 0.]\n",
      " [1. 0. 1.]\n",
      " [1. 0. 0.]\n",
      " [0. 1. 1.]]\n"
     ]
    }
   ],
   "source": [
    "# Binarizar los datos\n",
    "\n",
    "data_binarized = preprocessing.Binarizer(threshold=2.1).transform(input_data)\n",
    "print(\"\\nDatos binarizados:\\n\", data_binarized)"
   ]
  },
  {
   "cell_type": "code",
   "execution_count": 11,
   "metadata": {},
   "outputs": [
    {
     "name": "stdout",
     "output_type": "stream",
     "text": [
      "\n",
      "ANTES:\n",
      "Sumatoria = [ 7.8  4.3 -0.2]\n",
      "Media = [ 1.56  0.86 -0.04]\n",
      "Varianza = [30.4344 45.5664 19.0704]\n",
      "Desviación estándar = [5.51673817 6.75028888 4.36696691]\n"
     ]
    }
   ],
   "source": [
    "# Imprimir la sumatoria,la media,varianza y la desviación estándar\n",
    "\n",
    "print(\"\\nANTES:\")\n",
    "print(\"Sumatoria =\", input_data.sum(axis=0))\n",
    "print(\"Media =\", input_data.mean(axis=0))\n",
    "print(\"Varianza =\", input_data.var(axis=0))\n",
    "print(\"Desviación estándar =\", input_data.std(axis=0))"
   ]
  },
  {
   "cell_type": "code",
   "execution_count": 20,
   "metadata": {},
   "outputs": [
    {
     "name": "stdout",
     "output_type": "stream",
     "text": [
      "\n",
      "DESPUÉS:\n",
      "Sumatoria = [ 7.8  4.3 -0.2]\n",
      "Media = [8.8817842e-17 0.0000000e+00 0.0000000e+00]\n",
      "Varianza = [30.4344 45.5664 19.0704]\n",
      "Desviación estándar = [1. 1. 1.]\n"
     ]
    }
   ],
   "source": [
    "# Remover la media\n",
    "\n",
    "data_scaled = preprocessing.scale(input_data)\n",
    "print(\"\\nDESPUÉS:\")\n",
    "print(\"Sumatoria =\", input_data.sum(axis=0))\n",
    "print(\"Media =\", data_scaled.mean(axis=0))\n",
    "print(\"Varianza =\", input_data.var(axis=0))\n",
    "print(\"Desviación estándar =\", data_scaled.std(axis=0))"
   ]
  },
  {
   "cell_type": "code",
   "execution_count": 21,
   "metadata": {},
   "outputs": [
    {
     "name": "stdout",
     "output_type": "stream",
     "text": [
      "\n",
      "Min max escalamiento de datos:\n",
      " [[0.82692308 0.34574468 0.88679245]\n",
      " [0.42307692 0.86170213 0.        ]\n",
      " [0.75       0.5212766  0.82075472]\n",
      " [1.         0.         0.1509434 ]\n",
      " [0.         1.         1.        ]]\n"
     ]
    }
   ],
   "source": [
    "# Escalamiento Min Max\n",
    "\n",
    "data_scaler_minmax = preprocessing.MinMaxScaler(feature_range=(0,\n",
    "1))\n",
    "data_scaled_minmax = data_scaler_minmax.fit_transform(input_data)\n",
    "print(\"\\nMin max escalamiento de datos:\\n\", data_scaled_minmax)"
   ]
  },
  {
   "cell_type": "code",
   "execution_count": 22,
   "metadata": {},
   "outputs": [
    {
     "name": "stdout",
     "output_type": "stream",
     "text": [
      "\n",
      "L1 dato normalizado:\n",
      " [[ 0.45132743 -0.25663717  0.2920354 ]\n",
      " [-0.08510638  0.4822695  -0.43262411]\n",
      " [ 0.56521739  0.05797101  0.37681159]\n",
      " [ 0.359447   -0.43317972 -0.20737327]\n",
      " [-0.359447    0.43317972  0.20737327]]\n",
      "\n",
      "L2 dato normalizado:\n",
      " [[ 0.75765788 -0.43082507  0.49024922]\n",
      " [-0.13024258  0.73804127 -0.66206643]\n",
      " [ 0.82903697  0.08502943  0.55269132]\n",
      " [ 0.59920278 -0.72211616 -0.34569391]\n",
      " [-0.59920278  0.72211616  0.34569391]]\n"
     ]
    }
   ],
   "source": [
    "# Normalización de datos\n",
    "\n",
    "data_normalized_l1 = preprocessing.normalize(input_data,\n",
    "norm='l1')\n",
    "data_normalized_l2 = preprocessing.normalize(input_data,\n",
    "norm='l2')\n",
    "print(\"\\nL1 dato normalizado:\\n\", data_normalized_l1)\n",
    "print(\"\\nL2 dato normalizado:\\n\", data_normalized_l2)"
   ]
  },
  {
   "cell_type": "code",
   "execution_count": 35,
   "metadata": {},
   "outputs": [],
   "source": [
    "import random \n",
    "def llenar_lista(n, m):\n",
    "    print(\"** Llenar listas **\")\n",
    "    lista = []\n",
    "    for i in range(m):\n",
    "        #num = int(input(\"ingrese datos\"))\n",
    "        num = int(random.randrange(n))\n",
    "        lista.append(num)\n",
    "    return lista\n",
    "\n",
    "\n"
   ]
  },
  {
   "cell_type": "code",
   "execution_count": 97,
   "metadata": {},
   "outputs": [
    {
     "name": "stdout",
     "output_type": "stream",
     "text": [
      "\n",
      "Mapeo de etiquetas:\n",
      "BIOGEN --> 0\n",
      "BIOQ --> 1\n",
      "FISIII --> 2\n",
      "FISQ --> 3\n",
      "MATEIV --> 4\n",
      "PROGII --> 5\n",
      "\n",
      "Labels = ['BIOGEN', 'FISIII', 'BIOQ']\n",
      "Encoded values = [0, 2, 1]\n",
      "** Llenar listas **\n",
      "[2, 3, 0, 0, 1, 0, 3, 0, 0, 3, 0, 1, 0, 4, 1, 2, 2, 0, 4, 4]\n",
      "\n",
      "Encoded values = [2, 3, 0, 0, 1, 0, 3, 0, 0, 3, 0, 1, 0, 4, 1, 2, 2, 0, 4, 4]\n",
      "Decoded labels = ['FISIII', 'FISQ', 'BIOGEN', 'BIOGEN', 'BIOQ', 'BIOGEN', 'FISQ', 'BIOGEN', 'BIOGEN', 'FISQ', 'BIOGEN', 'BIOQ', 'BIOGEN', 'MATEIV', 'BIOQ', 'FISIII', 'FISIII', 'BIOGEN', 'MATEIV', 'MATEIV']\n",
      "\n",
      "\n",
      "Conteo \n",
      "\n",
      "BIOGEN    8\n",
      "MATEIV    3\n",
      "FISQ      3\n",
      "FISIII    3\n",
      "BIOQ      3\n",
      "dtype: int64 \n",
      "\n",
      "[3, 3, 8, 3, 3] \n",
      "\n",
      "['FISIII', 'FISQ', 'BIOGEN', 'BIOQ', 'MATEIV'] \n",
      "\n"
     ]
    }
   ],
   "source": [
    "# Manejo de etiquetas\n",
    "import numpy as np\n",
    "import pandas as pd\n",
    "import matplotlib.pyplot as plt\n",
    "from collections import Counter\n",
    "from sklearn import preprocessing\n",
    "# Se definen algunas etiquetas simples\n",
    "input_labels = [\"BIOGEN\",\"BIOQ\",\"FISIII\",\"FISQ\",\"PROGII\",\"MATEIV\"]\n",
    "# Se crea un codificador de etiquetas y se ajustan las etiquetas\n",
    "encoder = preprocessing.LabelEncoder()\n",
    "encoder.fit(input_labels)\n",
    "# Se imprime el mapeo entre palabras y números\n",
    "print(\"\\nMapeo de etiquetas:\")\n",
    "for i, item in enumerate(encoder.classes_):\n",
    "    print(item, '-->', i)\n",
    "# Codificar un conjunto de etiquetas con el codificador\n",
    "test_labels = [\"BIOGEN\", 'FISIII', 'BIOQ']\n",
    "encoded_values = encoder.transform(test_labels)\n",
    "print(\"\\nLabels =\", test_labels)\n",
    "print(\"Encoded values =\", list(encoded_values))\n",
    "# Decodificar un conjunto de valores usando el codificador\n",
    "encoded_values =llenar_lista(5, 20)\n",
    "print(encoded_values)\n",
    "#encoded_values = [3, 0, 4, 1]\n",
    "decoded_list = encoder.inverse_transform(encoded_values)\n",
    "print(\"\\nEncoded values =\", encoded_values)\n",
    "print(\"Decoded labels =\", list(decoded_list))\n",
    "print(\"\\n\")\n",
    "print(\"Conteo \\n\")\n",
    "\n",
    "# converting the list to a Series and counting the values\n",
    "my_count = pd.Series(list(decoded_list)).value_counts()\n",
    "print(my_count,\"\\n\")\n",
    "\n",
    "lista23=[]\n",
    "lista24=[]\n",
    "for z in list(decoded_list):\n",
    "    my_count[z]\n",
    "    if my_count[z]>0:\n",
    "        if z not in lista24: \n",
    "            lista23.append(my_count[z])\n",
    "            lista24.append(z)\n",
    "            \n",
    "    \n",
    "\n",
    "print(lista23,\"\\n\")\n",
    "print(lista24,\"\\n\")\n"
   ]
  },
  {
   "cell_type": "code",
   "execution_count": 99,
   "metadata": {},
   "outputs": [
    {
     "data": {
      "image/png": "[encoded data removed]",
      "text/plain": [
       "<Figure size 432x288 with 1 Axes>"
      ]
     },
     "metadata": {
      "needs_background": "light"
     },
     "output_type": "display_data"
    }
   ],
   "source": [
    "import matplotlib.pyplot as plt\n",
    "import numpy as np\n",
    "\n",
    "fig = plt.figure(\"ETIQUETAS\")\n",
    "grupo2 = fig.add_subplot(211)\n",
    "\n",
    "grupo2.bar(lista24,lista23, color=\"g\", align=\"center\")\n",
    "grupo2.set_xticks(lista24)\n",
    "grupo2.set_xticklabels(lista24)\n",
    "grupo2.set_ylabel(\"ETIQUETAS\")\n",
    "\n",
    "plt.show()\n",
    "\n"
   ]
  },
  {
   "cell_type": "code",
   "execution_count": null,
   "metadata": {},
   "outputs": [],
   "source": []
  }
 ],
 "metadata": {
  "kernelspec": {
   "display_name": "Python 3",
   "language": "python",
   "name": "python3"
  },
  "language_info": {
   "codemirror_mode": {
    "name": "ipython",
    "version": 3
   },
   "file_extension": ".py",
   "mimetype": "text/x-python",
   "name": "python",
   "nbconvert_exporter": "python",
   "pygments_lexer": "ipython3",
   "version": "3.8.3"
  }
 },
 "nbformat": 4,
 "nbformat_minor": 4
}
