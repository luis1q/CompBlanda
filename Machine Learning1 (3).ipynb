{
 "cells": [
  {
   "cell_type": "code",
   "execution_count": 2,
   "metadata": {},
   "outputs": [],
   "source": [
    "# COMPUTACIÓN BLANDA - Sistemas y Computación\n",
    "# -------------------------------------------\n",
    "# Introducción a numpy\n",
    "# Luis Anibal Loaiza C.\n",
    "# -------------------------------------------\n",
    "# Lección 01\n",
    "#\n",
    "# ** Creación de arrays\n",
    "# ** Acceso a los arrays\n",
    "# ** Manejo de rangos\n",
    "# ** Modificación de arrays\n",
    "#\n",
    "# -------------------------------------------"
   ]
  },
  {
   "cell_type": "code",
   "execution_count": 10,
   "metadata": {},
   "outputs": [
    {
     "name": "stdout",
     "output_type": "stream",
     "text": [
      "Arreglo a = [0 1 2 3 4 5 6] \n",
      "\n",
      "Tipo de a = int32 \n",
      "\n",
      "Dimensión de a = 1 \n",
      "\n",
      "Número de elementos de a = (7,) \n",
      "\n",
      "Convertir arreglo de enteros a float: \n",
      "\n",
      "[0. 1. 2. 3. 4. 5. 6.] \n",
      "\n",
      "Tipo de a = float64 \n",
      "\n"
     ]
    }
   ],
   "source": [
    "# Se importa la librería numpy\n",
    "import numpy as np\n",
    "# Se crea una array con 6 elementos\n",
    "a = np.arange(7)\n",
    "# Se imprime en pantalla el contenido del array a\n",
    "print('Arreglo a =', a, '\\n')\n",
    "# Se muestra el tipo de los elementos del array\n",
    "print('Tipo de a =', a.dtype, '\\n')\n",
    "# Se calcula la dimensión del array a, en este caso dimensión = 1 (vector)\n",
    "print('Dimensión de a =', a.ndim, '\\n')\n",
    "# Se calcula el número de elementos del array a\n",
    "# No olvidar que existe un elemento con índice 0\n",
    "print('Número de elementos de a =', a.shape,'\\n')\n",
    "\n",
    "print(\"Convertir arreglo de enteros a float:\",'\\n')\n",
    "\n",
    "a=a.astype(float)\n",
    "\n",
    "print(a,'\\n')\n",
    "\n",
    "print('Tipo de a =', a.dtype, '\\n')"
   ]
  },
  {
   "cell_type": "code",
   "execution_count": 25,
   "metadata": {},
   "outputs": [
    {
     "name": "stdout",
     "output_type": "stream",
     "text": [
      "a =\n",
      " [[1 2]\n",
      " [3 4]\n",
      " [5 6]] \n",
      "\n",
      "a[0,0] = 1 \n",
      "\n",
      "a[0,1] = 2 \n",
      "\n",
      "a[1,0] = 3 \n",
      "\n",
      "a[1,1] = 4 \n",
      "\n",
      "a[2,0] = 5 \n",
      "\n",
      "a[2,1] = 6 \n",
      "\n"
     ]
    }
   ],
   "source": [
    "# Seleccionando elementos de un array\n",
    "# De forma automatica\n",
    "\n",
    "a = np.array([[1,2], [3,4], [5,6]])\n",
    "print('a =\\n', a, '\\n')\n",
    "for i in range(len(a)):\n",
    "    for j in range(len(a[i])):\n",
    "        print('a[{},{}] ='.format(i,j) , a[i][j],'\\n')\n",
    "            \n",
    "# Elementos individuales\n",
    "#print('a[0,0] =', a[0,0], '\\n')\n",
    "#print('a[0,1] =', a[0,1], '\\n')\n",
    "#print('a[1,0] =', a[1,0], '\\n')\n",
    "#print('a[1,1] =', a[1,1])"
   ]
  },
  {
   "cell_type": "code",
   "execution_count": 40,
   "metadata": {},
   "outputs": [
    {
     "name": "stdout",
     "output_type": "stream",
     "text": [
      "a = [ 0  1  2  3  4  5  6  7  8  9 10 11] \n",
      "\n",
      "a[0:9] =  [0 1 2 3 4 5 6 7 8] \n",
      "\n",
      "a[3,7] = [3 4 5 6] \n",
      "\n",
      "a[::-1] = [11 10  9  8  7  6  5  4  3  2  1  0]\n"
     ]
    }
   ],
   "source": [
    "# Crea un array con 9 elementos, desde 0 hasta 8\n",
    "\n",
    "a = np.arange(12)\n",
    "print('a =', a, '\\n')\n",
    "# Muestra los elementos desde 0 hasta 9. Imprime desde 0 hasta 8\n",
    "print('a[0:9] = ', a[0:9], '\\n')\n",
    "# Muestra desde 3 hasta 7. Imprime desde 3 hasta 6\n",
    "print('a[3,7] =', a[3:7], '\\n')\n",
    "#Lista en orden inverso\n",
    "print('a[::-1] =',a[::-1])"
   ]
  },
  {
   "cell_type": "code",
   "execution_count": 66,
   "metadata": {},
   "outputs": [
    {
     "name": "stdout",
     "output_type": "stream",
     "text": [
      "a[0:12:1] = [ 0  1  2  3  4  5  6  7  8  9 10 11] \n",
      "\n",
      "a[:12:1] = [ 0  1  2  3  4  5  6  7  8  9 10 11] \n",
      "\n",
      "a[0:12:2] = [ 0  2  4  6  8 10] \n",
      "\n",
      "a[0:12:3] = [0 3 6 9] \n",
      "\n",
      "a[0:12:4] = [0 4 8] \n",
      "\n",
      "Ahora con el for \n",
      "\n",
      "a[:12:1] = [ 0  1  2  3  4  5  6  7  8  9 10 11] \n",
      "\n",
      "a[:12:2] = [ 0  2  4  6  8 10] \n",
      "\n",
      "a[:12:3] = [0 3 6 9] \n",
      "\n",
      "a[:12:4] = [0 4 8] \n",
      "\n"
     ]
    }
   ],
   "source": [
    "# Mostrando todos los elementos, desde el 0 hasta el 8, de uno en uno\n",
    "\n",
    "a = np.arange(12)\n",
    "#Se reemplaza el tamaño por len(a),para reducir la necesidad de saber por defecto el tamaño\n",
    "\n",
    "print('a[0:{}:1] ='.format(len(a)), a[0:len(a):1], '\\n')\n",
    "# El mismo ejemplo, pero omitiendo el número 0 al principio, el cual no es necesario aquí\n",
    "print('a[:{}:1] ='.format(len(a)), a[:len(a):1], '\\n')\n",
    "# Mostrando los números, de dos en dos\n",
    "print('a[0:{}:2] ='.format(len(a)), a[0:len(a):2], '\\n')\n",
    "# Mostrando los números, de tres en tres\n",
    "print('a[0:{}:3] ='.format(len(a)), a[0:len(a):3], '\\n')\n",
    "# Mostrando los números, de cuatro en cuatro\n",
    "print('a[0:{}:4] ='.format(len(a)), a[0:len(a):4], '\\n')\n",
    "\n",
    "print('Ahora con el for', '\\n')\n",
    "\n",
    "#Realizado con for\n",
    "\n",
    "for i in range(1,5):\n",
    "    print('a[:{}:{}] ='.format(len(a),i),a[:len(a):i], '\\n')\n"
   ]
  },
  {
   "cell_type": "code",
   "execution_count": 67,
   "metadata": {},
   "outputs": [
    {
     "name": "stdout",
     "output_type": "stream",
     "text": [
      "a[12:0:-1] = [11 10  9  8  7  6  5  4  3  2  1] \n",
      "\n",
      "a[::-1] = [11 10  9  8  7  6  5  4  3  2  1  0]\n"
     ]
    }
   ],
   "source": [
    "# Si utilizamos un incremento negativo, el array se muestra en orden inverso\n",
    "\n",
    "# El problema es que no muestra el valor 0\n",
    "print('a[{}:0:-1] ='.format(len(a)), a[len(a):0:-1], '\\n')\n",
    "# Si se omiten los valores de índice, el resultado es preciso\n",
    "print('a[::-1] =', a[::-1])"
   ]
  },
  {
   "cell_type": "code",
   "execution_count": 72,
   "metadata": {},
   "outputs": [
    {
     "name": "stdout",
     "output_type": "stream",
     "text": [
      "b =\n",
      " [[[ 0  1  2  3  4  5]\n",
      "  [ 6  7  8  9 10 11]]\n",
      "\n",
      " [[12 13 14 15 16 17]\n",
      "  [18 19 20 21 22 23]]\n",
      "\n",
      " [[24 25 26 27 28 29]\n",
      "  [30 31 32 33 34 35]]]\n"
     ]
    }
   ],
   "source": [
    "# Utilización de arreglos multidimensionales\n",
    "\n",
    "b = np.arange(36).reshape(3,2,6)\n",
    "print('b =\\n', b)\n",
    "# La instrucción reshape genera una matriz con 2 bloques, 3 filas y 4 columnas\n",
    "# El número total de elementos es de 24 (generados por arange)"
   ]
  },
  {
   "cell_type": "code",
   "execution_count": 78,
   "metadata": {},
   "outputs": [
    {
     "name": "stdout",
     "output_type": "stream",
     "text": [
      "b[1,2,3] = 19 \n",
      "\n",
      "b[0,2,2] = 8 \n",
      "\n",
      "b[0,1,1] = 31\n"
     ]
    }
   ],
   "source": [
    "# Acceso individual a los elementos del array\n",
    "# Elemento en el bloque 1, fila 1, columna 1\n",
    "print('b[1,2,3] =', b[1,1,1], '\\n')\n",
    "# Elemento en el bloque 0, fila 1, columna 2\n",
    "print('b[0,2,2] =', b[0,1,2], '\\n')\n",
    "# Elemento en el bloque 2, fila 1, columna 1\n",
    "print('b[0,1,1] =', b[2,1,1])"
   ]
  },
  {
   "cell_type": "code",
   "execution_count": 114,
   "metadata": {},
   "outputs": [
    {
     "name": "stdout",
     "output_type": "stream",
     "text": [
      "b =\n",
      " [[ 0  1  2  3  4  5  6  7  8  9 10 11]\n",
      " [12 13 14 15 16 17 18 19 20 21 22 23]\n",
      " [24 25 26 27 28 29 30 31 32 33 34 35]] \n",
      "\n",
      "b[0] = [ 0  1  2  3  4  5  6  7  8  9 10 11] \n",
      "\n",
      "b[1] = [12 13 14 15 16 17 18 19 20 21 22 23] \n",
      "\n",
      "b[2] = [24 25 26 27 28 29 30 31 32 33 34 35] \n",
      "\n",
      "b[0,0] = 0 \n",
      "\n",
      "b[0,1] = 1 \n",
      "\n",
      "b[0,2] = 2 \n",
      "\n",
      "b[0,3] = 3 \n",
      "\n",
      "b[0,4] = 4 \n",
      "\n",
      "b[0,5] = 5 \n",
      "\n",
      "b[0,6] = 6 \n",
      "\n",
      "b[0,7] = 7 \n",
      "\n",
      "b[0,8] = 8 \n",
      "\n",
      "b[0,9] = 9 \n",
      "\n",
      "b[0,10] = 10 \n",
      "\n",
      "b[0,11] = 11 \n",
      "\n",
      "b[1,0] = 12 \n",
      "\n",
      "b[1,1] = 13 \n",
      "\n",
      "b[1,2] = 14 \n",
      "\n",
      "b[1,3] = 15 \n",
      "\n",
      "b[1,4] = 16 \n",
      "\n",
      "b[1,5] = 17 \n",
      "\n",
      "b[1,6] = 18 \n",
      "\n",
      "b[1,7] = 19 \n",
      "\n",
      "b[1,8] = 20 \n",
      "\n",
      "b[1,9] = 21 \n",
      "\n",
      "b[1,10] = 22 \n",
      "\n",
      "b[1,11] = 23 \n",
      "\n",
      "b[2,0] = 24 \n",
      "\n",
      "b[2,1] = 25 \n",
      "\n",
      "b[2,2] = 26 \n",
      "\n",
      "b[2,3] = 27 \n",
      "\n",
      "b[2,4] = 28 \n",
      "\n",
      "b[2,5] = 29 \n",
      "\n",
      "b[2,6] = 30 \n",
      "\n",
      "b[2,7] = 31 \n",
      "\n",
      "b[2,8] = 32 \n",
      "\n",
      "b[2,9] = 33 \n",
      "\n",
      "b[2,10] = 34 \n",
      "\n",
      "b[2,11] = 35 \n",
      "\n"
     ]
    }
   ],
   "source": [
    "#Vista de la matriz \n",
    "print('b =\\n', b, '\\n')\n",
    "\n",
    "#Vista de la matriz por arreglos\n",
    "for i in range(len(b)):\n",
    "    print('b[{}] ='.format(i) , b[i],'\\n')\n",
    "\n",
    "#Vista de la matriz por elementos\n",
    "for i in range(len(b)):\n",
    "      for j in range(len(b[i])):\n",
    "        print('b[{},{}] ='.format(i,j) , b[i][j],'\\n')"
   ]
  },
  {
   "cell_type": "code",
   "execution_count": 90,
   "metadata": {},
   "outputs": [
    {
     "name": "stdout",
     "output_type": "stream",
     "text": [
      "b[0,0,0] = 0 \n",
      "\n",
      "b[1,0,0] = 12 \n",
      "\n",
      "b[:,0,0] = [ 0 12 24]\n"
     ]
    }
   ],
   "source": [
    "# Mostraremos como generalizar una selección\n",
    "\n",
    "# Primero elegimos el componente en la fila 0, columna 0, del bloque 0\n",
    "print('b[0,0,0] =', b[0,0,0], '\\n')\n",
    "# A continuación, elegimos el componente en la fila 0, columna, pero del bloque 1\n",
    "print('b[1,0,0] =', b[1,0,0], '\\n')\n",
    "# Para elegir SIMULTANEAMENTE ambos elementos, lo hacemos utilizando dos puntos\n",
    "print('b[:,0,0] =', b[:,0,0])"
   ]
  },
  {
   "cell_type": "code",
   "execution_count": 116,
   "metadata": {},
   "outputs": [
    {
     "name": "stdout",
     "output_type": "stream",
     "text": [
      "b[0] =\n",
      " [ 0  1  2  3  4  5  6  7  8  9 10 11]\n"
     ]
    }
   ],
   "source": [
    "# Si escribimos: b[1]\n",
    "\n",
    "# Habremos elegido el segundo bloque, pero habríamos omitido las filas y las columnas\n",
    "# En tal caso, numpy toma todas las filas y columnas del bloque 0\n",
    "print('b[0] =\\n', b[0])"
   ]
  },
  {
   "cell_type": "code",
   "execution_count": 94,
   "metadata": {},
   "outputs": [
    {
     "name": "stdout",
     "output_type": "stream",
     "text": [
      "b[0,:,:] =\n",
      " [[ 0  1  2  3  4  5]\n",
      " [ 6  7  8  9 10 11]]\n"
     ]
    }
   ],
   "source": [
    "# Otra forma de representar b[0] es: b[0, :, :]\n",
    "\n",
    "# Los dos puntos sin ningún valor, indican que se utilizarán todos los términos disponibles\n",
    "# En este caso, todas las filas y todas las columnas\n",
    "print('b[0,:,:] =\\n', b[0,:,:])"
   ]
  },
  {
   "cell_type": "code",
   "execution_count": 95,
   "metadata": {},
   "outputs": [
    {
     "name": "stdout",
     "output_type": "stream",
     "text": [
      "b[0, ...] =\n",
      " [[ 0  1  2  3  4  5]\n",
      " [ 6  7  8  9 10 11]]\n"
     ]
    }
   ],
   "source": [
    "# Cuando se utiliza la notación de : a derecha o a izquierda, se puede reemplazar por ...\n",
    "# El ejemplo anterior se puede escribir así:\n",
    "print('b[0, ...] =\\n', b[0, ...])"
   ]
  },
  {
   "cell_type": "code",
   "execution_count": 96,
   "metadata": {},
   "outputs": [
    {
     "name": "stdout",
     "output_type": "stream",
     "text": [
      "b[0,1] = [ 6  7  8  9 10 11]\n"
     ]
    }
   ],
   "source": [
    "# Si queremos la fila 1 en el bloque 0 (sin que importen las columnas), se tiene:\n",
    "print('b[0,1] =', b[0,1])"
   ]
  },
  {
   "cell_type": "code",
   "execution_count": 97,
   "metadata": {},
   "outputs": [
    {
     "name": "stdout",
     "output_type": "stream",
     "text": [
      "z = [ 6  7  8  9 10 11] \n",
      "\n",
      "z[::2] = [ 6  8 10]\n"
     ]
    }
   ],
   "source": [
    "# El resultado de una selección puede utilizar luego para un cálculo posterior\n",
    "\n",
    "# Se obtiene la fila 1 del bloque 0 (como en ejemplo anterior)\n",
    "# y se asigna dicha respuesta a la variable z \n",
    "z = b[0,1]\n",
    "print('z =', z, '\\n')\n",
    "# En este caso, la variable z toma el valor: [4 5 6 7]\n",
    "# Si ahora queremos tomar de dicha respuesta los valores de 2 en 2, se tiene:\n",
    "print('z[::2] =', z[::2])"
   ]
  },
  {
   "cell_type": "code",
   "execution_count": 98,
   "metadata": {},
   "outputs": [
    {
     "name": "stdout",
     "output_type": "stream",
     "text": [
      "b[0,1,::2] = [ 6  8 10]\n"
     ]
    }
   ],
   "source": [
    "# El ejercicio anterior se puede combinar en una expresión única, así:\n",
    "\n",
    "print('b[0,1,::2] =', b[0,1,::2])\n",
    "# Esta es una solución más compacta"
   ]
  },
  {
   "cell_type": "code",
   "execution_count": 99,
   "metadata": {},
   "outputs": [
    {
     "name": "stdout",
     "output_type": "stream",
     "text": [
      "[[[ 0  1  2  3  4  5]\n",
      "  [ 6  7  8  9 10 11]]\n",
      "\n",
      " [[12 13 14 15 16 17]\n",
      "  [18 19 20 21 22 23]]\n",
      "\n",
      " [[24 25 26 27 28 29]\n",
      "  [30 31 32 33 34 35]]] \n",
      "\n",
      "b[:,:,1] =\n",
      " [[ 1  7]\n",
      " [13 19]\n",
      " [25 31]] \n",
      "\n",
      "b[...,1] =\n",
      " [[ 1  7]\n",
      " [13 19]\n",
      " [25 31]]\n"
     ]
    }
   ],
   "source": [
    "# Imprime todas las columnas, independientemente de los bloques y filas\n",
    "\n",
    "print(b, '\\n')\n",
    "print('b[:,:,1] =\\n', b[:,:,1], '\\n')\n",
    "# Variante de notación (simplificada)\n",
    "print('b[...,1] =\\n', b[...,1])"
   ]
  },
  {
   "cell_type": "code",
   "execution_count": 100,
   "metadata": {},
   "outputs": [
    {
     "name": "stdout",
     "output_type": "stream",
     "text": [
      "[[[ 0  1  2  3  4  5]\n",
      "  [ 6  7  8  9 10 11]]\n",
      "\n",
      " [[12 13 14 15 16 17]\n",
      "  [18 19 20 21 22 23]]\n",
      "\n",
      " [[24 25 26 27 28 29]\n",
      "  [30 31 32 33 34 35]]] \n",
      "\n",
      "b[:,1] = [[ 6  7  8  9 10 11]\n",
      " [18 19 20 21 22 23]\n",
      " [30 31 32 33 34 35]]\n"
     ]
    }
   ],
   "source": [
    "# Si queremos seleccionar todas las filas 2, independientemente\n",
    "\n",
    "# de los bloques y columnas, se tiene:\n",
    "print(b, '\\n')\n",
    "print('b[:,1] =', b[:,1])\n",
    "# Puesto que no se menciona en la notación las columnas, se toman todos\n",
    "# los valores según corresponda"
   ]
  },
  {
   "cell_type": "code",
   "execution_count": 101,
   "metadata": {},
   "outputs": [
    {
     "name": "stdout",
     "output_type": "stream",
     "text": [
      "[[[ 0  1  2  3  4  5]\n",
      "  [ 6  7  8  9 10 11]]\n",
      "\n",
      " [[12 13 14 15 16 17]\n",
      "  [18 19 20 21 22 23]]\n",
      "\n",
      " [[24 25 26 27 28 29]\n",
      "  [30 31 32 33 34 35]]] \n",
      "\n",
      "b[0,:,1] = [1 7]\n"
     ]
    }
   ],
   "source": [
    "# En el siguiente ejemplo seleccionmos la columna 1 del bloque 0\n",
    "\n",
    "print(b, '\\n')\n",
    "print('b[0,:,1] =', b[0,:,1])"
   ]
  },
  {
   "cell_type": "code",
   "execution_count": 102,
   "metadata": {},
   "outputs": [
    {
     "name": "stdout",
     "output_type": "stream",
     "text": [
      "b[0,:,-1] = [ 5 11]\n",
      "b[0, ::-1, -1] = [11  5]\n",
      "b[0, ::2, -1] = [5]\n"
     ]
    }
   ],
   "source": [
    "# Si queremos seleccionar la última columna del primer bloque, tenemos:\n",
    "\n",
    "print('b[0,:,-1] =', b[0,:,-1])\n",
    "# Podemos observar lo siguiente: entre corchetes encontramos tres valores\n",
    "# El primero, el cero, selecciona el primer bloque\n",
    "# El tercero, -1, se encarga de seleccionar la última columna\n",
    "# Los dos puntos, en la segunda posición, SELECCIONAN todos los\n",
    "# componentes de lad FILAS, que FORMARÁN PARTE de dicha COLUMNA\n",
    "# Dado que los dos puntos definen todos los valores de las FILAS en\n",
    "# una columna específica, si quisieramos que DICHOS VALORES estuvieran\n",
    "# en orden inverso, ejecutaríamos la instrucción\n",
    "print('b[0, ::-1, -1] =', b[0, ::-1, -1])\n",
    "# La expresión ::-1 invierte todos los valores que se hubieran seleccionado\n",
    "# Si en lugar de invertir la columna, quisieramos imprimir sus\n",
    "# valores de 2 en 2, tendríamos:\n",
    "print('b[0, ::2, -1] =', b[0, ::2, -1])"
   ]
  },
  {
   "cell_type": "code",
   "execution_count": 103,
   "metadata": {},
   "outputs": [
    {
     "name": "stdout",
     "output_type": "stream",
     "text": [
      "[[[ 0  1  2  3  4  5]\n",
      "  [ 6  7  8  9 10 11]]\n",
      "\n",
      " [[12 13 14 15 16 17]\n",
      "  [18 19 20 21 22 23]]\n",
      "\n",
      " [[24 25 26 27 28 29]\n",
      "  [30 31 32 33 34 35]]] \n",
      "-----------------------\n",
      "\n",
      "[[[24 25 26 27 28 29]\n",
      "  [30 31 32 33 34 35]]\n",
      "\n",
      " [[12 13 14 15 16 17]\n",
      "  [18 19 20 21 22 23]]\n",
      "\n",
      " [[ 0  1  2  3  4  5]\n",
      "  [ 6  7  8  9 10 11]]]\n"
     ]
    }
   ],
   "source": [
    "# El array original\n",
    "\n",
    "print(b, '\\n-----------------------\\n')\n",
    "# Esta instrucción invierte los bloques\n",
    "print(b[::-1])"
   ]
  },
  {
   "cell_type": "code",
   "execution_count": 104,
   "metadata": {},
   "outputs": [
    {
     "name": "stdout",
     "output_type": "stream",
     "text": [
      "Matriz b =\n",
      " [[[ 0  1  2  3  4  5]\n",
      "  [ 6  7  8  9 10 11]]\n",
      "\n",
      " [[12 13 14 15 16 17]\n",
      "  [18 19 20 21 22 23]]\n",
      "\n",
      " [[24 25 26 27 28 29]\n",
      "  [30 31 32 33 34 35]]] \n",
      "--------------------------\n",
      "\n",
      "Vector b = \n",
      " [ 0  1  2  3  4  5  6  7  8  9 10 11 12 13 14 15 16 17 18 19 20 21 22 23\n",
      " 24 25 26 27 28 29 30 31 32 33 34 35]\n"
     ]
    }
   ],
   "source": [
    "# La instrucción: ravel(), de-construye el efecto de la instrucción: reshape\n",
    "\n",
    "# Este es el array b en su estado matricial\n",
    "print('Matriz b =\\n', b, '\\n--------------------------\\n')\n",
    "# Con ravel() se genera un vector a partir de la matriz\n",
    "print('Vector b = \\n', b.ravel())"
   ]
  },
  {
   "cell_type": "code",
   "execution_count": 105,
   "metadata": {},
   "outputs": [
    {
     "name": "stdout",
     "output_type": "stream",
     "text": [
      "Vector b con flatten =\n",
      " [ 0  1  2  3  4  5  6  7  8  9 10 11 12 13 14 15 16 17 18 19 20 21 22 23\n",
      " 24 25 26 27 28 29 30 31 32 33 34 35]\n"
     ]
    }
   ],
   "source": [
    "# La instrucción: flatten() es similar a ravel()\n",
    "\n",
    "# La diferencia es que flatten genera un nuevo espacio de memoria\n",
    "print('Vector b con flatten =\\n', b.flatten())"
   ]
  },
  {
   "cell_type": "code",
   "execution_count": 107,
   "metadata": {},
   "outputs": [
    {
     "name": "stdout",
     "output_type": "stream",
     "text": [
      "b(6x6) =\n",
      " [[ 0  1  2  3  4  5]\n",
      " [ 6  7  8  9 10 11]\n",
      " [12 13 14 15 16 17]\n",
      " [18 19 20 21 22 23]\n",
      " [24 25 26 27 28 29]\n",
      " [30 31 32 33 34 35]]\n"
     ]
    }
   ],
   "source": [
    "# Se puede cambiar la estructura de una matriz con la instrucción: shape\n",
    "\n",
    "# Transformamos la matriz en 6 filas x 4 columnas\n",
    "b.shape = (6,6)\n",
    "print('b(6x6) =\\n', b)"
   ]
  },
  {
   "cell_type": "code",
   "execution_count": 108,
   "metadata": {},
   "outputs": [
    {
     "name": "stdout",
     "output_type": "stream",
     "text": [
      "b =\n",
      " [[ 0  1  2  3  4  5]\n",
      " [ 6  7  8  9 10 11]\n",
      " [12 13 14 15 16 17]\n",
      " [18 19 20 21 22 23]\n",
      " [24 25 26 27 28 29]\n",
      " [30 31 32 33 34 35]] \n",
      "------------------------\n",
      "\n",
      "Transpuesta de b =\n",
      " [[ 0  6 12 18 24 30]\n",
      " [ 1  7 13 19 25 31]\n",
      " [ 2  8 14 20 26 32]\n",
      " [ 3  9 15 21 27 33]\n",
      " [ 4 10 16 22 28 34]\n",
      " [ 5 11 17 23 29 35]] \n",
      "------------------------\n",
      "\n"
     ]
    }
   ],
   "source": [
    "# A partir de la matriz que acaba de ser generada, vamos a mostrar\n",
    "\n",
    "# como se construye la transpuesta de la matriz\n",
    "# Matriz original\n",
    "print('b =\\n', b, '\\n------------------------\\n')\n",
    "# Matri transpuesta\n",
    "print('Transpuesta de b =\\n', b.transpose(), '\\n------------------------\\n')"
   ]
  },
  {
   "cell_type": "code",
   "execution_count": 109,
   "metadata": {},
   "outputs": [
    {
     "name": "stdout",
     "output_type": "stream",
     "text": [
      "b =\n",
      " [[ 0  1  2  3  4  5  6  7  8  9 10 11]\n",
      " [12 13 14 15 16 17 18 19 20 21 22 23]\n",
      " [24 25 26 27 28 29 30 31 32 33 34 35]]\n"
     ]
    }
   ],
   "source": [
    "# Para concluir este primer módulo de numpy, mostraremos que la instrucción\n",
    "\n",
    "# resize, ejecuta una labor similar a reshape\n",
    "# La diferencia está en que resize altera la estructura del array\n",
    "# En cambio reshape crea una copia del original, razón por la cual en\n",
    "# reshape se debe asignar el resultado a una nueva variable\n",
    "# Se cambia la estructura del array b\n",
    "b.resize([3,12])\n",
    "# Al imprimir el array b, se observa que su estructura ha cambiado\n",
    "print('b =\\n', b)"
   ]
  },
  {
   "cell_type": "code",
   "execution_count": null,
   "metadata": {},
   "outputs": [],
   "source": []
  }
 ],
 "metadata": {
  "kernelspec": {
   "display_name": "Python 3",
   "language": "python",
   "name": "python3"
  },
  "language_info": {
   "codemirror_mode": {
    "name": "ipython",
    "version": 3
   },
   "file_extension": ".py",
   "mimetype": "text/x-python",
   "name": "python",
   "nbconvert_exporter": "python",
   "pygments_lexer": "ipython3",
   "version": "3.8.3"
  }
 },
 "nbformat": 4,
 "nbformat_minor": 4
}
